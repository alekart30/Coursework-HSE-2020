{
  "nbformat": 4,
  "nbformat_minor": 0,
  "metadata": {
    "colab": {
      "name": "Coursework.ipynb",
      "provenance": [],
      "collapsed_sections": []
    },
    "kernelspec": {
      "name": "python3",
      "display_name": "Python 3"
    }
  },
  "cells": [
    {
      "cell_type": "markdown",
      "metadata": {
        "id": "BqnowGiDVu98",
        "colab_type": "text"
      },
      "source": [
        "# All imports"
      ]
    },
    {
      "cell_type": "code",
      "metadata": {
        "id": "Fyl4H5mbVZnr",
        "colab_type": "code",
        "colab": {
          "base_uri": "https://localhost:8080/",
          "height": 70
        },
        "outputId": "765b8702-10f0-4124-b4e6-89508e93b78e"
      },
      "source": [
        "import os\n",
        "from google_drive_downloader import GoogleDriveDownloader as gdd\n",
        "\n",
        "import pandas as pd\n",
        "import numpy as np\n",
        "import seaborn as sns\n",
        "import matplotlib.pyplot as plt"
      ],
      "execution_count": 1,
      "outputs": [
        {
          "output_type": "stream",
          "text": [
            "/usr/local/lib/python3.6/dist-packages/statsmodels/tools/_testing.py:19: FutureWarning: pandas.util.testing is deprecated. Use the functions in the public API at pandas.testing instead.\n",
            "  import pandas.util.testing as tm\n"
          ],
          "name": "stderr"
        }
      ]
    },
    {
      "cell_type": "code",
      "metadata": {
        "id": "ScFVeiSuX_yw",
        "colab_type": "code",
        "colab": {}
      },
      "source": [
        "%matplotlib inline\n",
        "sns.set_style('darkgrid')"
      ],
      "execution_count": 0,
      "outputs": []
    },
    {
      "cell_type": "markdown",
      "metadata": {
        "id": "afsz8vVRV0EG",
        "colab_type": "text"
      },
      "source": [
        "# Load data"
      ]
    },
    {
      "cell_type": "code",
      "metadata": {
        "id": "Xqs21RL_Vo_E",
        "colab_type": "code",
        "outputId": "14713e20-20f8-4020-8785-e69bef7be9f4",
        "colab": {
          "base_uri": "https://localhost:8080/",
          "height": 34
        }
      },
      "source": [
        "if not os.path.exists('./data'):\n",
        "  os.mkdir('./data')\n",
        "\n",
        "gdd.download_file_from_google_drive(file_id='1r6U_EFULKXiuLPrIEAdoJ7W_1Xa7aJ3Q', dest_path='./data/movies.zip')"
      ],
      "execution_count": 3,
      "outputs": [
        {
          "output_type": "stream",
          "text": [
            "Downloading 1r6U_EFULKXiuLPrIEAdoJ7W_1Xa7aJ3Q into ./data/movies.zip... Done.\n"
          ],
          "name": "stdout"
        }
      ]
    },
    {
      "cell_type": "code",
      "metadata": {
        "id": "kU61I9hhV2l-",
        "colab_type": "code",
        "outputId": "88cb196f-17b3-4c2b-ed9b-8da44273ae3c",
        "colab": {
          "base_uri": "https://localhost:8080/",
          "height": 118
        }
      },
      "source": [
        "! unzip ./data/movies.zip -d ./data/unziped"
      ],
      "execution_count": 4,
      "outputs": [
        {
          "output_type": "stream",
          "text": [
            "Archive:  ./data/movies.zip\n",
            "  inflating: ./data/unziped/links.csv  \n",
            "  inflating: ./data/unziped/movies.csv  \n",
            "  inflating: ./data/unziped/ratings.csv  \n",
            "  inflating: ./data/unziped/tags.csv  \n",
            "  inflating: ./data/unziped/u.data   \n"
          ],
          "name": "stdout"
        }
      ]
    },
    {
      "cell_type": "markdown",
      "metadata": {
        "id": "Mko2Cu6rWCiw",
        "colab_type": "text"
      },
      "source": [
        "# EDA"
      ]
    },
    {
      "cell_type": "code",
      "metadata": {
        "id": "6s7r-RqNWEvV",
        "colab_type": "code",
        "colab": {}
      },
      "source": [
        "ratings_df = pd.read_csv('/content/data/unziped/ratings.csv')"
      ],
      "execution_count": 0,
      "outputs": []
    },
    {
      "cell_type": "code",
      "metadata": {
        "id": "v0qEc6jWWUxX",
        "colab_type": "code",
        "outputId": "21d0febb-9cf3-4644-d6ee-c057d70cc1b9",
        "colab": {
          "base_uri": "https://localhost:8080/",
          "height": 195
        }
      },
      "source": [
        "ratings_df.head()"
      ],
      "execution_count": 6,
      "outputs": [
        {
          "output_type": "execute_result",
          "data": {
            "text/html": [
              "<div>\n",
              "<style scoped>\n",
              "    .dataframe tbody tr th:only-of-type {\n",
              "        vertical-align: middle;\n",
              "    }\n",
              "\n",
              "    .dataframe tbody tr th {\n",
              "        vertical-align: top;\n",
              "    }\n",
              "\n",
              "    .dataframe thead th {\n",
              "        text-align: right;\n",
              "    }\n",
              "</style>\n",
              "<table border=\"1\" class=\"dataframe\">\n",
              "  <thead>\n",
              "    <tr style=\"text-align: right;\">\n",
              "      <th></th>\n",
              "      <th>userId</th>\n",
              "      <th>movieId</th>\n",
              "      <th>rating</th>\n",
              "      <th>timestamp</th>\n",
              "    </tr>\n",
              "  </thead>\n",
              "  <tbody>\n",
              "    <tr>\n",
              "      <th>0</th>\n",
              "      <td>1</td>\n",
              "      <td>31</td>\n",
              "      <td>2.5</td>\n",
              "      <td>1260759144</td>\n",
              "    </tr>\n",
              "    <tr>\n",
              "      <th>1</th>\n",
              "      <td>1</td>\n",
              "      <td>1029</td>\n",
              "      <td>3.0</td>\n",
              "      <td>1260759179</td>\n",
              "    </tr>\n",
              "    <tr>\n",
              "      <th>2</th>\n",
              "      <td>1</td>\n",
              "      <td>1061</td>\n",
              "      <td>3.0</td>\n",
              "      <td>1260759182</td>\n",
              "    </tr>\n",
              "    <tr>\n",
              "      <th>3</th>\n",
              "      <td>1</td>\n",
              "      <td>1129</td>\n",
              "      <td>2.0</td>\n",
              "      <td>1260759185</td>\n",
              "    </tr>\n",
              "    <tr>\n",
              "      <th>4</th>\n",
              "      <td>1</td>\n",
              "      <td>1172</td>\n",
              "      <td>4.0</td>\n",
              "      <td>1260759205</td>\n",
              "    </tr>\n",
              "  </tbody>\n",
              "</table>\n",
              "</div>"
            ],
            "text/plain": [
              "   userId  movieId  rating   timestamp\n",
              "0       1       31     2.5  1260759144\n",
              "1       1     1029     3.0  1260759179\n",
              "2       1     1061     3.0  1260759182\n",
              "3       1     1129     2.0  1260759185\n",
              "4       1     1172     4.0  1260759205"
            ]
          },
          "metadata": {
            "tags": []
          },
          "execution_count": 6
        }
      ]
    },
    {
      "cell_type": "code",
      "metadata": {
        "id": "hgKl5JaXWYmA",
        "colab_type": "code",
        "colab": {}
      },
      "source": [
        "ratings_df['timestamp'] = pd.to_datetime(ratings_df['timestamp'], unit='s')"
      ],
      "execution_count": 0,
      "outputs": []
    },
    {
      "cell_type": "code",
      "metadata": {
        "id": "wN77ooQgWhH3",
        "colab_type": "code",
        "outputId": "f75bc0ae-71a7-4225-82bd-f0d90c0578d7",
        "colab": {
          "base_uri": "https://localhost:8080/",
          "height": 195
        }
      },
      "source": [
        "ratings_df.head()"
      ],
      "execution_count": 8,
      "outputs": [
        {
          "output_type": "execute_result",
          "data": {
            "text/html": [
              "<div>\n",
              "<style scoped>\n",
              "    .dataframe tbody tr th:only-of-type {\n",
              "        vertical-align: middle;\n",
              "    }\n",
              "\n",
              "    .dataframe tbody tr th {\n",
              "        vertical-align: top;\n",
              "    }\n",
              "\n",
              "    .dataframe thead th {\n",
              "        text-align: right;\n",
              "    }\n",
              "</style>\n",
              "<table border=\"1\" class=\"dataframe\">\n",
              "  <thead>\n",
              "    <tr style=\"text-align: right;\">\n",
              "      <th></th>\n",
              "      <th>userId</th>\n",
              "      <th>movieId</th>\n",
              "      <th>rating</th>\n",
              "      <th>timestamp</th>\n",
              "    </tr>\n",
              "  </thead>\n",
              "  <tbody>\n",
              "    <tr>\n",
              "      <th>0</th>\n",
              "      <td>1</td>\n",
              "      <td>31</td>\n",
              "      <td>2.5</td>\n",
              "      <td>2009-12-14 02:52:24</td>\n",
              "    </tr>\n",
              "    <tr>\n",
              "      <th>1</th>\n",
              "      <td>1</td>\n",
              "      <td>1029</td>\n",
              "      <td>3.0</td>\n",
              "      <td>2009-12-14 02:52:59</td>\n",
              "    </tr>\n",
              "    <tr>\n",
              "      <th>2</th>\n",
              "      <td>1</td>\n",
              "      <td>1061</td>\n",
              "      <td>3.0</td>\n",
              "      <td>2009-12-14 02:53:02</td>\n",
              "    </tr>\n",
              "    <tr>\n",
              "      <th>3</th>\n",
              "      <td>1</td>\n",
              "      <td>1129</td>\n",
              "      <td>2.0</td>\n",
              "      <td>2009-12-14 02:53:05</td>\n",
              "    </tr>\n",
              "    <tr>\n",
              "      <th>4</th>\n",
              "      <td>1</td>\n",
              "      <td>1172</td>\n",
              "      <td>4.0</td>\n",
              "      <td>2009-12-14 02:53:25</td>\n",
              "    </tr>\n",
              "  </tbody>\n",
              "</table>\n",
              "</div>"
            ],
            "text/plain": [
              "   userId  movieId  rating           timestamp\n",
              "0       1       31     2.5 2009-12-14 02:52:24\n",
              "1       1     1029     3.0 2009-12-14 02:52:59\n",
              "2       1     1061     3.0 2009-12-14 02:53:02\n",
              "3       1     1129     2.0 2009-12-14 02:53:05\n",
              "4       1     1172     4.0 2009-12-14 02:53:25"
            ]
          },
          "metadata": {
            "tags": []
          },
          "execution_count": 8
        }
      ]
    },
    {
      "cell_type": "markdown",
      "metadata": {
        "id": "31XEtjrwW5pk",
        "colab_type": "text"
      },
      "source": [
        "Check nans"
      ]
    },
    {
      "cell_type": "code",
      "metadata": {
        "id": "QwC970ybWtjQ",
        "colab_type": "code",
        "outputId": "349e6f6f-4c08-4994-e75c-f1c37784247c",
        "colab": {
          "base_uri": "https://localhost:8080/",
          "height": 202
        }
      },
      "source": [
        "ratings_df.info()"
      ],
      "execution_count": 9,
      "outputs": [
        {
          "output_type": "stream",
          "text": [
            "<class 'pandas.core.frame.DataFrame'>\n",
            "RangeIndex: 100004 entries, 0 to 100003\n",
            "Data columns (total 4 columns):\n",
            " #   Column     Non-Null Count   Dtype         \n",
            "---  ------     --------------   -----         \n",
            " 0   userId     100004 non-null  int64         \n",
            " 1   movieId    100004 non-null  int64         \n",
            " 2   rating     100004 non-null  float64       \n",
            " 3   timestamp  100004 non-null  datetime64[ns]\n",
            "dtypes: datetime64[ns](1), float64(1), int64(2)\n",
            "memory usage: 3.1 MB\n"
          ],
          "name": "stdout"
        }
      ]
    },
    {
      "cell_type": "code",
      "metadata": {
        "id": "UVHLXh5YW7Od",
        "colab_type": "code",
        "outputId": "14163ea4-db61-4f68-b464-5969981ed42a",
        "colab": {
          "base_uri": "https://localhost:8080/",
          "height": 34
        }
      },
      "source": [
        "ratings_df['userId'].nunique()"
      ],
      "execution_count": 10,
      "outputs": [
        {
          "output_type": "execute_result",
          "data": {
            "text/plain": [
              "671"
            ]
          },
          "metadata": {
            "tags": []
          },
          "execution_count": 10
        }
      ]
    },
    {
      "cell_type": "code",
      "metadata": {
        "id": "bbkCKjacXEm1",
        "colab_type": "code",
        "outputId": "67996f35-4611-45e8-948a-e196587fa816",
        "colab": {
          "base_uri": "https://localhost:8080/",
          "height": 34
        }
      },
      "source": [
        "ratings_df['movieId'].nunique()"
      ],
      "execution_count": 11,
      "outputs": [
        {
          "output_type": "execute_result",
          "data": {
            "text/plain": [
              "9066"
            ]
          },
          "metadata": {
            "tags": []
          },
          "execution_count": 11
        }
      ]
    },
    {
      "cell_type": "markdown",
      "metadata": {
        "id": "cAi-KXIAXNAd",
        "colab_type": "text"
      },
      "source": [
        "Sparcity"
      ]
    },
    {
      "cell_type": "code",
      "metadata": {
        "id": "7mwY9rF7XOXJ",
        "colab_type": "code",
        "outputId": "067156b4-fb4a-41ee-e2e2-1403ab70f477",
        "colab": {
          "base_uri": "https://localhost:8080/",
          "height": 34
        }
      },
      "source": [
        "ratings_df.shape[0] / (ratings_df['userId'].nunique() * ratings_df['movieId'].nunique())"
      ],
      "execution_count": 12,
      "outputs": [
        {
          "output_type": "execute_result",
          "data": {
            "text/plain": [
              "0.016439141608663475"
            ]
          },
          "metadata": {
            "tags": []
          },
          "execution_count": 12
        }
      ]
    },
    {
      "cell_type": "markdown",
      "metadata": {
        "id": "m4ilS806XYQI",
        "colab_type": "text"
      },
      "source": [
        "Ratings distribution over users"
      ]
    },
    {
      "cell_type": "code",
      "metadata": {
        "id": "_2p8gdAkXcXI",
        "colab_type": "code",
        "outputId": "caa056bd-f23e-4a2a-bde3-ae44bc5b8566",
        "colab": {
          "base_uri": "https://localhost:8080/",
          "height": 296
        }
      },
      "source": [
        "fig = plt.figure()\n",
        "ax = fig.add_subplot(1,1,1)\n",
        "sns.distplot(ratings_df.groupby('userId').agg({'rating':'count'}),ax=ax,kde=False)\n",
        "ax.set_yscale('log')\n",
        "ax.set_xlabel(\"number of ratings per user\")"
      ],
      "execution_count": 13,
      "outputs": [
        {
          "output_type": "execute_result",
          "data": {
            "text/plain": [
              "Text(0.5, 0, 'number of ratings per user')"
            ]
          },
          "metadata": {
            "tags": []
          },
          "execution_count": 13
        },
        {
          "output_type": "display_data",
          "data": {
            "image/png": "[encoded data removed]",
            "text/plain": [
              "<Figure size 432x288 with 1 Axes>"
            ]
          },
          "metadata": {
            "tags": []
          }
        }
      ]
    },
    {
      "cell_type": "markdown",
      "metadata": {
        "id": "F4-NbsBzY9bH",
        "colab_type": "text"
      },
      "source": [
        "Ratings distribution over movies"
      ]
    },
    {
      "cell_type": "code",
      "metadata": {
        "id": "U_v8KFHTZBAv",
        "colab_type": "code",
        "outputId": "7d35210c-a468-4b5e-b666-fb0fa2910966",
        "colab": {
          "base_uri": "https://localhost:8080/",
          "height": 302
        }
      },
      "source": [
        "fig = plt.figure()\n",
        "ax = fig.add_subplot(1,1,1)\n",
        "sns.distplot(ratings_df.groupby('movieId').agg({'rating':'count'}),ax=ax,kde=False)\n",
        "ax.set_yscale('log')\n",
        "ax.set_xlabel(\"number of ratings per movie\")"
      ],
      "execution_count": 14,
      "outputs": [
        {
          "output_type": "execute_result",
          "data": {
            "text/plain": [
              "Text(0.5, 0, 'number of ratings per movie')"
            ]
          },
          "metadata": {
            "tags": []
          },
          "execution_count": 14
        },
        {
          "output_type": "display_data",
          "data": {
            "image/png": "[encoded data removed]",
            "text/plain": [
              "<Figure size 432x288 with 1 Axes>"
            ]
          },
          "metadata": {
            "tags": []
          }
        }
      ]
    },
    {
      "cell_type": "markdown",
      "metadata": {
        "id": "QPzHWJLnZIj1",
        "colab_type": "text"
      },
      "source": [
        "# Dataset preprocessing"
      ]
    },
    {
      "cell_type": "markdown",
      "metadata": {
        "id": "odA6axcUZQqo",
        "colab_type": "text"
      },
      "source": [
        "Let's transform it from explicit to implicit due to following rule:\n",
        "\n",
        "1 if we have rating for pair (user, movie), 0 otherwise"
      ]
    },
    {
      "cell_type": "code",
      "metadata": {
        "id": "XjdZ-jcuZK0e",
        "colab_type": "code",
        "colab": {}
      },
      "source": [
        "ratings_df['rating'] = 1"
      ],
      "execution_count": 0,
      "outputs": []
    },
    {
      "cell_type": "code",
      "metadata": {
        "id": "bIsP0x1o2YvQ",
        "colab_type": "code",
        "colab": {}
      },
      "source": [
        "ratings_per_user = ratings_df.groupby('userId').agg({'rating':'count'}).reset_index().rename(columns={'rating':'rating_num'})"
      ],
      "execution_count": 0,
      "outputs": []
    },
    {
      "cell_type": "markdown",
      "metadata": {
        "id": "BevADGkL2rPB",
        "colab_type": "text"
      },
      "source": [
        "There is no need in removing any users, there are no cold users."
      ]
    },
    {
      "cell_type": "code",
      "metadata": {
        "id": "67tXh94S2Z1e",
        "colab_type": "code",
        "outputId": "c7417f9e-e032-47e0-8bb4-76d5db47f98e",
        "colab": {
          "base_uri": "https://localhost:8080/",
          "height": 34
        }
      },
      "source": [
        "ratings_per_user['rating_num'].min()"
      ],
      "execution_count": 17,
      "outputs": [
        {
          "output_type": "execute_result",
          "data": {
            "text/plain": [
              "20"
            ]
          },
          "metadata": {
            "tags": []
          },
          "execution_count": 17
        }
      ]
    },
    {
      "cell_type": "code",
      "metadata": {
        "id": "OBb4hqEH209B",
        "colab_type": "code",
        "colab": {}
      },
      "source": [
        "ratings_per_movie = ratings_df.groupby('movieId').agg({'rating':'count'}).reset_index().rename(columns={'rating':'rating_num'})"
      ],
      "execution_count": 0,
      "outputs": []
    },
    {
      "cell_type": "code",
      "metadata": {
        "id": "F7zXOTa_25gJ",
        "colab_type": "code",
        "outputId": "c4794ee4-f61b-470f-960a-b6771e5c1573",
        "colab": {
          "base_uri": "https://localhost:8080/",
          "height": 34
        }
      },
      "source": [
        "ratings_per_movie['rating_num'].min()"
      ],
      "execution_count": 19,
      "outputs": [
        {
          "output_type": "execute_result",
          "data": {
            "text/plain": [
              "1"
            ]
          },
          "metadata": {
            "tags": []
          },
          "execution_count": 19
        }
      ]
    },
    {
      "cell_type": "code",
      "metadata": {
        "id": "0ArPHTfh9q6j",
        "colab_type": "code",
        "colab": {}
      },
      "source": [
        "ratings_df.rename(columns={'movieId':'itemId'}, inplace=True)"
      ],
      "execution_count": 0,
      "outputs": []
    },
    {
      "cell_type": "markdown",
      "metadata": {
        "id": "s-PLt8JJ3ZvB",
        "colab_type": "text"
      },
      "source": [
        "## TODO: Decide whether there is need in removing cold items."
      ]
    },
    {
      "cell_type": "markdown",
      "metadata": {
        "id": "FUKtJYfd3o0C",
        "colab_type": "text"
      },
      "source": [
        "# Most popular recommender"
      ]
    },
    {
      "cell_type": "code",
      "metadata": {
        "id": "pAh3P5aZ3gxh",
        "colab_type": "code",
        "colab": {}
      },
      "source": [
        "class MostPopularRecommender():\n",
        "  def __init__(self):\n",
        "    self.sorted_items = None\n",
        "\n",
        "  def fit(self, X):\n",
        "    \"\"\"Build list of items according to their popularity\n",
        "\n",
        "    :param X: incoming data for fitting contains 'userId' and 'itemId' columns (DataFrame)\n",
        "    \"\"\"\n",
        "    self.sorted_items = X.groupby('itemId').agg({'rating':'count'}).sort_values(by='rating', ascending=False).reset_index()['itemId'].tolist()\n",
        "  \n",
        "  def predict(self, X, top_n):\n",
        "    \"\"\"Predict top_n popular items for each user\n",
        "    \n",
        "    :param X: incoming data for prediction contains 'userId' column (DataFrame)\n",
        "    :param top_n: number of recommendations (int)\n",
        "    :return: items recommendations for each user (DataFrame)\n",
        "    \"\"\"\n",
        "    prediction_df = pd.DataFrame()\n",
        "    prediction_df['userId'] = X['userId'].unique()\n",
        "    prediction_df['rec_items'] = [self.sorted_items[:top_n] for _ in range(X['userId'].nunique())]\n",
        "    return prediction_df"
      ],
      "execution_count": 0,
      "outputs": []
    },
    {
      "cell_type": "code",
      "metadata": {
        "id": "UREFCk3j64xF",
        "colab_type": "code",
        "colab": {}
      },
      "source": [
        "mp = MostPopularRecommender()"
      ],
      "execution_count": 0,
      "outputs": []
    },
    {
      "cell_type": "code",
      "metadata": {
        "id": "faf5jiB2661h",
        "colab_type": "code",
        "colab": {}
      },
      "source": [
        "mp.fit(ratings_df)"
      ],
      "execution_count": 0,
      "outputs": []
    },
    {
      "cell_type": "code",
      "metadata": {
        "id": "KX8dvD259Kgi",
        "colab_type": "code",
        "colab": {}
      },
      "source": [
        "predicted_df = mp.predict(ratings_df,3)"
      ],
      "execution_count": 0,
      "outputs": []
    },
    {
      "cell_type": "markdown",
      "metadata": {
        "id": "w0_EZzHY-Gbj",
        "colab_type": "text"
      },
      "source": [
        "# Metrics"
      ]
    },
    {
      "cell_type": "code",
      "metadata": {
        "id": "mDhy-9bn-JjP",
        "colab_type": "code",
        "colab": {}
      },
      "source": [
        "def collect_ground_truth(X):\n",
        "  \"\"\"Build list of ground truth for every user based on X provided data\"\"\"\n",
        "  \n",
        "  return X.groupby('userId').agg({'itemId':list}).reset_index().rename(columns={'itemId':'ground_truth_items'})"
      ],
      "execution_count": 0,
      "outputs": []
    },
    {
      "cell_type": "code",
      "metadata": {
        "id": "_X7anoCx-IUS",
        "colab_type": "code",
        "colab": {}
      },
      "source": [
        "ground_truth_df = collect_ground_truth(ratings_df)"
      ],
      "execution_count": 0,
      "outputs": []
    },
    {
      "cell_type": "markdown",
      "metadata": {
        "id": "R-1WbGxbvjk0",
        "colab_type": "text"
      },
      "source": [
        "##TODO: Discuss implementation"
      ]
    },
    {
      "cell_type": "code",
      "metadata": {
        "id": "jQwrmAE8JiTu",
        "colab_type": "code",
        "colab": {}
      },
      "source": [
        "def precision_at_k(predicted, ground_truth, k):\n",
        "  assert len(predicted) >= k\n",
        "  intersection = set(predicted[:k]) & set(ground_truth)\n",
        "  return len(intersection) / k\n",
        "  #return len(intersection) / min(k,len(ground_truth))"
      ],
      "execution_count": 0,
      "outputs": []
    },
    {
      "cell_type": "code",
      "metadata": {
        "id": "UMFBuzPkKs42",
        "colab_type": "code",
        "colab": {}
      },
      "source": [
        "def recall_at_k(predicted, ground_truth, k):\n",
        "  assert len(predicted) >= k\n",
        "  intersection = set(predicted[:k]) & set(ground_truth)\n",
        "  return len(intersection) / len(ground_truth)\n",
        "  #return len(intersection) / min(k,len(ground_truth))"
      ],
      "execution_count": 0,
      "outputs": []
    },
    {
      "cell_type": "code",
      "metadata": {
        "id": "tbL9QYpZv6Rs",
        "colab_type": "code",
        "colab": {}
      },
      "source": [
        "def hit_rate_at_k(predicted, ground_truth, k):\n",
        "  assert len(predicted) == k\n",
        "  intersection = set(predicted[:k]) & set(ground_truth)\n",
        "  return 1 if len(intersection) > 0 else 0"
      ],
      "execution_count": 0,
      "outputs": []
    },
    {
      "cell_type": "code",
      "metadata": {
        "id": "nOc9NXCJXYjK",
        "colab_type": "code",
        "colab": {}
      },
      "source": [
        "def ndcg_at_k(predicted, ground_truth, k):\n",
        "  assert len(predicted) >= k\n",
        "  gain = sum([1/np.log2(i+2) for i, item in enumerate(predicted[:k]) if item in ground_truth])\n",
        "  max_gain = sum([1/np.log2(i+2) for i in range(len(ground_truth))])\n",
        "  return gain / max_gain\n"
      ],
      "execution_count": 0,
      "outputs": []
    },
    {
      "cell_type": "code",
      "metadata": {
        "id": "ihObnV19bywG",
        "colab_type": "code",
        "colab": {}
      },
      "source": [
        "def average_precision_at_k(predicted, ground_truth, k):\n",
        "  pass"
      ],
      "execution_count": 0,
      "outputs": []
    },
    {
      "cell_type": "code",
      "metadata": {
        "id": "ZhVuf9vhb7GH",
        "colab_type": "code",
        "colab": {}
      },
      "source": [
        "def mean_metric(predicted_df, ground_truth_df, metric_func, k):\n",
        "  merged_df = pd.merge(ground_truth_df, predicted_df, on='userId')\n",
        "  return np.mean([metric_func(row['rec_items'], row['ground_truth_items'], k=k) for _, row in  merged_df.iterrows()])"
      ],
      "execution_count": 0,
      "outputs": []
    },
    {
      "cell_type": "code",
      "metadata": {
        "id": "MB13iy1CdmzD",
        "colab_type": "code",
        "colab": {
          "base_uri": "https://localhost:8080/",
          "height": 34
        },
        "outputId": "92ad7771-6811-4b87-e5aa-b96f9578a866"
      },
      "source": [
        "mean_metric(predicted_df, ground_truth_df, hit_rate_at_k, k=3)"
      ],
      "execution_count": 76,
      "outputs": [
        {
          "output_type": "execute_result",
          "data": {
            "text/plain": [
              "0.7168405365126677"
            ]
          },
          "metadata": {
            "tags": []
          },
          "execution_count": 76
        }
      ]
    },
    {
      "cell_type": "code",
      "metadata": {
        "id": "VphqRyBPean4",
        "colab_type": "code",
        "colab": {
          "base_uri": "https://localhost:8080/",
          "height": 34
        },
        "outputId": "921cd7ab-4735-49ec-882c-5ab97578deb2"
      },
      "source": [
        "mean_metric(predicted_df, ground_truth_df, precision_at_k, k=3)"
      ],
      "execution_count": 77,
      "outputs": [
        {
          "output_type": "execute_result",
          "data": {
            "text/plain": [
              "0.4848484848484848"
            ]
          },
          "metadata": {
            "tags": []
          },
          "execution_count": 77
        }
      ]
    },
    {
      "cell_type": "code",
      "metadata": {
        "id": "ZfZowueCed6u",
        "colab_type": "code",
        "colab": {
          "base_uri": "https://localhost:8080/",
          "height": 34
        },
        "outputId": "1644659b-66d5-4053-ee06-9449d3427466"
      },
      "source": [
        "mean_metric(predicted_df, ground_truth_df, recall_at_k, k=3)"
      ],
      "execution_count": 78,
      "outputs": [
        {
          "output_type": "execute_result",
          "data": {
            "text/plain": [
              "0.01875780010225043"
            ]
          },
          "metadata": {
            "tags": []
          },
          "execution_count": 78
        }
      ]
    },
    {
      "cell_type": "code",
      "metadata": {
        "id": "1parObQ2eldg",
        "colab_type": "code",
        "colab": {
          "base_uri": "https://localhost:8080/",
          "height": 34
        },
        "outputId": "dd8c3ac0-188b-44c8-d7fd-d32818f6c051"
      },
      "source": [
        "mean_metric(predicted_df, ground_truth_df, ndcg_at_k, k=3)"
      ],
      "execution_count": 92,
      "outputs": [
        {
          "output_type": "execute_result",
          "data": {
            "text/plain": [
              "0.05321607312475447"
            ]
          },
          "metadata": {
            "tags": []
          },
          "execution_count": 92
        }
      ]
    },
    {
      "cell_type": "code",
      "metadata": {
        "id": "VpCVB8a1xHQv",
        "colab_type": "code",
        "colab": {}
      },
      "source": [
        "predicted = [1,3,2]\n",
        "actual = [2,5,7]"
      ],
      "execution_count": 0,
      "outputs": []
    },
    {
      "cell_type": "code",
      "metadata": {
        "id": "dHxmoC8_2maA",
        "colab_type": "code",
        "outputId": "993a140c-eaef-41f3-d4d7-786f18bb7a5a",
        "colab": {
          "base_uri": "https://localhost:8080/",
          "height": 34
        }
      },
      "source": [
        "precision_at_k(predicted,actual,k=3)"
      ],
      "execution_count": 94,
      "outputs": [
        {
          "output_type": "execute_result",
          "data": {
            "text/plain": [
              "0.3333333333333333"
            ]
          },
          "metadata": {
            "tags": []
          },
          "execution_count": 94
        }
      ]
    },
    {
      "cell_type": "code",
      "metadata": {
        "id": "m85F5nGT27v7",
        "colab_type": "code",
        "outputId": "955ea161-68d4-42e2-9ba0-46c388f183b8",
        "colab": {
          "base_uri": "https://localhost:8080/",
          "height": 34
        }
      },
      "source": [
        "hit_rate(predicted,actual,k=1)"
      ],
      "execution_count": 95,
      "outputs": [
        {
          "output_type": "execute_result",
          "data": {
            "text/plain": [
              "0"
            ]
          },
          "metadata": {
            "tags": []
          },
          "execution_count": 95
        }
      ]
    },
    {
      "cell_type": "code",
      "metadata": {
        "id": "VCMPJ75Va2j-",
        "colab_type": "code",
        "colab": {
          "base_uri": "https://localhost:8080/",
          "height": 34
        },
        "outputId": "d0de9dd2-0eb5-4dbe-a37b-5885e85578f7"
      },
      "source": [
        "ndcg(predicted, actual,k=3)"
      ],
      "execution_count": 96,
      "outputs": [
        {
          "output_type": "execute_result",
          "data": {
            "text/plain": [
              "0.23463936301137822"
            ]
          },
          "metadata": {
            "tags": []
          },
          "execution_count": 96
        }
      ]
    }
  ]
}